{
 "cells": [
  {
   "cell_type": "markdown",
   "id": "ba2cfb2d",
   "metadata": {},
   "source": [
    "# Image Scrapper Assignment"
   ]
  },
  {
   "cell_type": "code",
   "execution_count": 66,
   "id": "10999d05",
   "metadata": {},
   "outputs": [],
   "source": [
    "from selenium import webdriver \n",
    "import pandas as pd \n",
    "from selenium.webdriver.common.by import By \n",
    "from selenium.webdriver.support.ui import WebDriverWait \n",
    "from selenium.webdriver.support import expected_conditions as EC\n",
    "from webdriver_manager.chrome import ChromeDriverManager"
   ]
  },
  {
   "cell_type": "code",
   "execution_count": 67,
   "id": "49d3db9e",
   "metadata": {},
   "outputs": [
    {
     "name": "stderr",
     "output_type": "stream",
     "text": [
      "C:\\Users\\LENOVO\\AppData\\Local\\Temp\\ipykernel_3808\\3200303226.py:1: DeprecationWarning: executable_path has been deprecated, please pass in a Service object\n",
      "  driver = webdriver.Chrome(ChromeDriverManager().install())\n"
     ]
    }
   ],
   "source": [
    "driver = webdriver.Chrome(ChromeDriverManager().install())\n",
    "driver.get(\"https://www.youtube.com/@PW-Foundation/videos\")"
   ]
  },
  {
   "cell_type": "markdown",
   "id": "36e09cf4",
   "metadata": {},
   "source": [
    "## Q1. Write a python program to extract the video URL of the first five videos."
   ]
  },
  {
   "cell_type": "code",
   "execution_count": 68,
   "id": "48ff5437",
   "metadata": {},
   "outputs": [],
   "source": [
    "links = driver.find_elements(By.TAG_NAME,\"a\")\n",
    "urls = []\n",
    "for link in links:\n",
    "    url = link.get_attribute(\"href\")\n",
    "    urls.append(url)"
   ]
  },
  {
   "cell_type": "code",
   "execution_count": 69,
   "id": "bee7590f",
   "metadata": {},
   "outputs": [
    {
     "name": "stdout",
     "output_type": "stream",
     "text": [
      "['https://www.youtube.com/gaming', 'https://www.youtube.com/channel/UCYfdidRxbB8Qhf0Nx7ioOYw', 'https://www.youtube.com/channel/UCEgdi0XIXXZ-qJOFPf4JSKw', 'https://www.youtube.com/channel/UCtFRv9O2AHqOZjjynzrv-xg', 'https://www.youtube.com/channel/UCrpQ4p1Ql_hG8rKXIKM1MOQ', 'https://www.youtube.com/feed/guide_builder', 'https://www.youtube.com/premium', 'https://music.youtube.com/']\n"
     ]
    }
   ],
   "source": [
    "first_5_links = []\n",
    "for url in urls[17:25]:\n",
    "    if url == None:\n",
    "        continue\n",
    "    else:\n",
    "        first_5_links.append(url)\n",
    "print(first_5_links)"
   ]
  },
  {
   "cell_type": "markdown",
   "id": "ca64a966",
   "metadata": {},
   "source": [
    "## Q2. Write a python program to extract the URL of the video thumbnails of the first five videos."
   ]
  },
  {
   "cell_type": "code",
   "execution_count": 70,
   "id": "a21e165b",
   "metadata": {},
   "outputs": [],
   "source": [
    "driver.get(\"https://www.youtube.com/@PW-Foundation/videos\")"
   ]
  },
  {
   "cell_type": "code",
   "execution_count": 71,
   "id": "f7380580",
   "metadata": {},
   "outputs": [],
   "source": [
    "links = driver.find_elements(By.TAG_NAME,\"img\")"
   ]
  },
  {
   "cell_type": "code",
   "execution_count": 72,
   "id": "e2fd501a",
   "metadata": {},
   "outputs": [
    {
     "name": "stdout",
     "output_type": "stream",
     "text": [
      "5\n",
      "https://i.ytimg.com/vi/YwxDKs7jNXs/hqdefault.jpg?sqp=-oaymwEcCNACELwBSFXyq4qpAw4IARUAAIhCGAFwAcABBg==&rs=AOn4CLCxBeqH2fPvxUA3N-qahvm2G-XRzA\n",
      "https://i.ytimg.com/vi/dVq8dLd5zK4/hqdefault.jpg?sqp=-oaymwEcCNACELwBSFXyq4qpAw4IARUAAIhCGAFwAcABBg==&rs=AOn4CLBHI4cIhoo7jkELZwDpddlQgdbp5A\n",
      "https://i.ytimg.com/vi/9y6ruBLE7z0/hqdefault.jpg?sqp=-oaymwEcCNACELwBSFXyq4qpAw4IARUAAIhCGAFwAcABBg==&rs=AOn4CLBqf6kzJXU74F0LwHkBeIvIDv_Vug\n",
      "https://i.ytimg.com/vi/yv4Gi792S8o/hqdefault.jpg?sqp=-oaymwEcCNACELwBSFXyq4qpAw4IARUAAIhCGAFwAcABBg==&rs=AOn4CLDtCy5r9N3ro9wpbyQUiMLEBRFBkQ\n",
      "https://i.ytimg.com/vi/aPrSAvwuhTk/hqdefault.jpg?sqp=-oaymwEcCNACELwBSFXyq4qpAw4IARUAAIhCGAFwAcABBg==&rs=AOn4CLByH1Ps6232FhOfJPY-O97j7_ByRA\n"
     ]
    }
   ],
   "source": [
    "thumbnails = []\n",
    "for thumbnail in links[8:17]:\n",
    "    thumbnail = thumbnail.get_attribute(\"src\")\n",
    "    if thumbnail == None:\n",
    "        continue\n",
    "    else:\n",
    "        thumbnails.append(thumbnail)\n",
    "print(len(thumbnails))\n",
    "for i in thumbnails:\n",
    "    print(i)"
   ]
  },
  {
   "cell_type": "markdown",
   "id": "ffeffb26",
   "metadata": {},
   "source": [
    "## Q3. Write a python program to extract the title of the first five videos."
   ]
  },
  {
   "cell_type": "code",
   "execution_count": 49,
   "id": "e2ab5459",
   "metadata": {},
   "outputs": [],
   "source": [
    "#title\n",
    "driver.get(\"https://www.youtube.com/@PW-Foundation/videos\")"
   ]
  },
  {
   "cell_type": "code",
   "execution_count": 50,
   "id": "44b5942e",
   "metadata": {},
   "outputs": [
    {
     "name": "stdout",
     "output_type": "stream",
     "text": [
      "['How To Plan For Class-11th || Perfect Strategy 💯 || A Complete Roadmap!!', 'Strategy to Crack NEET in 1st Attempt 💪💪', 'How to start class 9th Maths ❓🤔 | Maths Strategy', 'Ritik Sir ने Class 10th की First Class में ही, बच्चों को कड़वा सच बता दिया 🔴😱 | UDAAN 2024', 'How to change Mindset from class 10th to 11th ❓ ❓']\n"
     ]
    }
   ],
   "source": [
    "titles = driver.find_elements(By.TAG_NAME,\"yt-formatted-string\")\n",
    "titles_video = []\n",
    "# print(links)\n",
    "for i in titles[46:67]:\n",
    "     titles_video.append(i.text)\n",
    "print(titles_video[0:21:5])"
   ]
  },
  {
   "cell_type": "markdown",
   "id": "df68b466",
   "metadata": {},
   "source": [
    "## Q4. Write a python program to extract the number of views of the first five videos."
   ]
  },
  {
   "cell_type": "code",
   "execution_count": 51,
   "id": "53fc4f3b",
   "metadata": {},
   "outputs": [],
   "source": [
    "#views\n",
    "driver.get(\"https://www.youtube.com/@PW-Foundation/videos\")"
   ]
  },
  {
   "cell_type": "code",
   "execution_count": 52,
   "id": "b5951b87",
   "metadata": {},
   "outputs": [
    {
     "name": "stdout",
     "output_type": "stream",
     "text": [
      "['4.2K views', '49K views', '14K views', '60K views', '32K views']\n"
     ]
    }
   ],
   "source": [
    "views = driver.find_elements(By.TAG_NAME,\"span\")\n",
    "video_views = []\n",
    "for i in views:\n",
    "    if str(\"views\") in i.text:\n",
    "        video_views.append(i.text)\n",
    "print(video_views[0:5])"
   ]
  },
  {
   "cell_type": "markdown",
   "id": "ab50057f",
   "metadata": {},
   "source": [
    "## Q5. Write a python program to extract the time of posting of video for the first five videos."
   ]
  },
  {
   "cell_type": "code",
   "execution_count": 53,
   "id": "51b626d2",
   "metadata": {},
   "outputs": [],
   "source": [
    "#posting time\n",
    "driver.get(\"https://www.youtube.com/@PW-Foundation/videos\")"
   ]
  },
  {
   "cell_type": "code",
   "execution_count": 54,
   "id": "f5817fa1",
   "metadata": {},
   "outputs": [
    {
     "name": "stdout",
     "output_type": "stream",
     "text": [
      "['2 days ago', '3 days ago', '3 days ago', '4 days ago', '5 days ago', '7 days ago', '7 days ago', '10 days ago', '10 days ago', '12 days ago', '12 days ago']\n"
     ]
    }
   ],
   "source": [
    "times = driver.find_elements(By.TAG_NAME,\"span\")\n",
    "video_times = []\n",
    "for i in times[24:]:\n",
    "    if str(\"day\") in i.text:\n",
    "        video_times.append(i.text)\n",
    "print(video_times)"
   ]
  },
  {
   "cell_type": "markdown",
   "id": "af66789b",
   "metadata": {},
   "source": [
    "## Note: Save all the data scraped in the above questions in a CSV file."
   ]
  },
  {
   "cell_type": "code",
   "execution_count": 79,
   "id": "99fc15a0",
   "metadata": {},
   "outputs": [
    {
     "name": "stdout",
     "output_type": "stream",
     "text": [
      "done\n"
     ]
    }
   ],
   "source": [
    "for i in range(len(thumbnails)-1):\n",
    "    data_csv =str(first_5_links[i]), str(thumbnails[i]),str(titles_video [i]),str(video_views [i]),str(video_times [i])\n",
    "\n",
    "    with open('video_details.csv', 'w',encoding='utf-8', newline='') as file:\n",
    "        writer = csv.writer(file)\n",
    "        writer.writerow(data_csv)\n",
    "print('done')"
   ]
  },
  {
   "cell_type": "code",
   "execution_count": null,
   "id": "30bc200e",
   "metadata": {},
   "outputs": [],
   "source": []
  }
 ],
 "metadata": {
  "kernelspec": {
   "display_name": "Python 3 (ipykernel)",
   "language": "python",
   "name": "python3"
  },
  "language_info": {
   "codemirror_mode": {
    "name": "ipython",
    "version": 3
   },
   "file_extension": ".py",
   "mimetype": "text/x-python",
   "name": "python",
   "nbconvert_exporter": "python",
   "pygments_lexer": "ipython3",
   "version": "3.9.13"
  }
 },
 "nbformat": 4,
 "nbformat_minor": 5
}
